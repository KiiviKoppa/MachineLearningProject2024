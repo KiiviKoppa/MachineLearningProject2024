{
 "cells": [
  {
   "cell_type": "markdown",
   "id": "3ca050f4-52da-4411-b591-11369dc9f838",
   "metadata": {},
   "source": [
    "Machine Learning project\n",
    "\n",
    "Training a CNN to to classify images. We will be using Keras Sequential API []. Our data set was gathered by us []."
   ]
  },
  {
   "cell_type": "markdown",
   "id": "946998c0-892f-4676-b6bb-6273b349c5d9",
   "metadata": {},
   "source": [
    "Neccessary imports:"
   ]
  },
  {
   "cell_type": "code",
   "execution_count": 92,
   "id": "e7e616d5-ec1a-46b9-865e-7031d3e1e50e",
   "metadata": {
    "tags": []
   },
   "outputs": [],
   "source": [
    "import numpy as np\n",
    "import pandas as pd\n",
    "import tensorflow as tf\n",
    "import matplotlib.pyplot as plt\n",
    "import os\n",
    "\n",
    "from pathlib import Path\n",
    "from tensorflow.keras import layers, models\n",
    "from keras.models import Sequential\n",
    "from keras.layers import Conv2D, MaxPool2D, Flatten, Dense, InputLayer, BatchNormalization, Dropout\n",
    "from keras.preprocessing import image\n",
    "from sklearn.model_selection import train_test_split\n",
    "from tensorflow.keras.utils import to_categorical\n",
    "\n",
    "\n"
   ]
  },
  {
   "cell_type": "markdown",
   "id": "9bc52f50-f5de-4e34-9862-4fa8242e77ae",
   "metadata": {},
   "source": [
    "Download data set:"
   ]
  },
  {
   "cell_type": "code",
   "execution_count": 93,
   "id": "2e418386-4452-4ccb-a96f-a3412ce0e0ad",
   "metadata": {},
   "outputs": [],
   "source": [
    "image_data = np.load(\"image_data64.npy\")\n",
    "labels = np.load(\"labels64.npy\")"
   ]
  },
  {
   "cell_type": "markdown",
   "id": "17f33841-a3b1-4c2a-9505-eb626dafff48",
   "metadata": {},
   "source": [
    "Normalization operations n' stuff"
   ]
  },
  {
   "cell_type": "markdown",
   "id": "5afad38a-d7d3-44b4-b848-f833b063b0b9",
   "metadata": {
    "tags": []
   },
   "source": [
    "Verifying the dataset and displaying some images"
   ]
  },
  {
   "cell_type": "code",
   "execution_count": 94,
   "id": "1c53f596-5d65-4714-ba88-a58ded3ea276",
   "metadata": {
    "tags": []
   },
   "outputs": [],
   "source": [
    "# Normalize image data\n",
    "image_data = image_data.astype('float32') / 255.0"
   ]
  },
  {
   "cell_type": "code",
   "execution_count": 95,
   "id": "a85c4b66-ebcb-40b4-ad4a-4d3494f04ca2",
   "metadata": {},
   "outputs": [],
   "source": [
    "labels_zero_indexed = np.array(labels) - 1  # Convert labels to zero-indexed\n",
    "\n",
    "# One-hot encode the labels for categorical_crossentropy\n",
    "y_categorical = to_categorical(labels_zero_indexed)\n"
   ]
  },
  {
   "cell_type": "code",
   "execution_count": 96,
   "id": "06fe8a30-cd37-4859-b817-9209d9a41982",
   "metadata": {},
   "outputs": [
    {
     "name": "stdout",
     "output_type": "stream",
     "text": [
      "Training set shape: (16799, 64, 64, 3), Training labels shape: 16799\n",
      "Validation set shape: (3601, 64, 64, 3), Validation labels shape: 3601\n",
      "Test set shape: (3600, 64, 64, 3), Test labels shape: 3600\n"
     ]
    }
   ],
   "source": [
    "# Splitting the data\n",
    "\n",
    "\n",
    "X_train, X_test, y_train, y_test = train_test_split(\n",
    "    image_data, \n",
    "    labels_zero_indexed, #coreesponding labels are the same as for image_data\n",
    "    test_size = 0.15, #15% for  tests \n",
    "    random_state=42, #meaning of life\n",
    "    stratify=labels\n",
    ")\n",
    "\n",
    "X_train, X_val, y_train, y_val = train_test_split(\n",
    "    X_train, # Features\n",
    "    y_train, # Corresponding labels\n",
    "    test_size=0.1765, # 20% of training data for validation = 15% of the original data\n",
    "    random_state=42, \n",
    "    stratify=y_train\n",
    ")\n",
    "\n",
    "print(f\"Training set shape: {X_train.shape}, Training labels shape: {len(y_train)}\")\n",
    "print(f\"Validation set shape: {X_val.shape}, Validation labels shape: {len(y_val)}\")\n",
    "print(f\"Test set shape: {X_test.shape}, Test labels shape: {len(y_test)}\")"
   ]
  },
  {
   "cell_type": "code",
   "execution_count": 97,
   "id": "38dc6420-6125-4e32-be7f-69f34a9494f6",
   "metadata": {
    "tags": []
   },
   "outputs": [],
   "source": [
    "##code here for it"
   ]
  },
  {
   "cell_type": "markdown",
   "id": "46e72a27-561e-47fe-9f64-7b3dedc70fdb",
   "metadata": {},
   "source": [
    "crafting convolutional base\n",
    "\n",
    "CNN takes tensors of shape (image_height, image_width, color_channels) = (64, 64, 3)\n",
    "You can do this by passing the argument input_shape to your first layer.\n",
    "\n",
    "\n",
    "layers: Conv2D, MaxPooling, Dense\n",
    "\n"
   ]
  },
  {
   "cell_type": "code",
   "execution_count": 98,
   "id": "57297903-dc21-41d2-b5dd-89a919ca55ac",
   "metadata": {
    "tags": []
   },
   "outputs": [],
   "source": [
    "model = Sequential()\n",
    "model.add(InputLayer(shape=(64,64,3)))\n",
    "\n",
    "#1st layer\n",
    "#Conv2d(filters, kernel_size, ) \n",
    "# We use padding because it maintains feature map size and doesn't shrink image's spatial dimensions too soon, out put is the same size as input\n",
    "model.add(Conv2D(filters=32, kernel_size=(3, 3), activation='relu', padding='same'))\n",
    "#MaxPool2D(pool_size) reduces width and height by half\n",
    "model.add(MaxPool2D(pool_size=(2,2)))\n",
    "\n",
    "#2nd\n",
    "model.add(Conv2D(filters=64, kernel_size=(3, 3), activation='relu', padding='same'))\n",
    "model.add(MaxPool2D(pool_size=(2,2)))\n",
    "\n",
    "#3rd\n",
    "#model.add(Conv2D(filters=128, kernel_size=(3, 3), activation='relu', padding='same'))\n",
    "#model.add(MaxPool2D(pool_size=(2,2)))\n",
    "\n",
    "#4th\n",
    "#model.add(Conv2D(filters=256, kernel_size=(3, 3), activation='relu', padding='same'))\n",
    "#model.add(MaxPool2D(pool_size=(2,2)))\n"
   ]
  },
  {
   "cell_type": "code",
   "execution_count": 99,
   "id": "f4d3608b-a817-4995-b0f3-6678c7fce2ac",
   "metadata": {},
   "outputs": [
    {
     "data": {
      "text/html": [
       "<pre style=\"white-space:pre;overflow-x:auto;line-height:normal;font-family:Menlo,'DejaVu Sans Mono',consolas,'Courier New',monospace\"><span style=\"font-weight: bold\">Model: \"sequential\"</span>\n",
       "</pre>\n"
      ],
      "text/plain": [
       "\u001b[1mModel: \"sequential\"\u001b[0m\n"
      ]
     },
     "metadata": {},
     "output_type": "display_data"
    },
    {
     "data": {
      "text/html": [
       "<pre style=\"white-space:pre;overflow-x:auto;line-height:normal;font-family:Menlo,'DejaVu Sans Mono',consolas,'Courier New',monospace\">┏━━━━━━━━━━━━━━━━━━━━━━━━━━━━━━━━━━━━━━┳━━━━━━━━━━━━━━━━━━━━━━━━━━━━━┳━━━━━━━━━━━━━━━━━┓\n",
       "┃<span style=\"font-weight: bold\"> Layer (type)                         </span>┃<span style=\"font-weight: bold\"> Output Shape                </span>┃<span style=\"font-weight: bold\">         Param # </span>┃\n",
       "┡━━━━━━━━━━━━━━━━━━━━━━━━━━━━━━━━━━━━━━╇━━━━━━━━━━━━━━━━━━━━━━━━━━━━━╇━━━━━━━━━━━━━━━━━┩\n",
       "│ conv2d (<span style=\"color: #0087ff; text-decoration-color: #0087ff\">Conv2D</span>)                      │ (<span style=\"color: #00d7ff; text-decoration-color: #00d7ff\">None</span>, <span style=\"color: #00af00; text-decoration-color: #00af00\">64</span>, <span style=\"color: #00af00; text-decoration-color: #00af00\">64</span>, <span style=\"color: #00af00; text-decoration-color: #00af00\">32</span>)          │             <span style=\"color: #00af00; text-decoration-color: #00af00\">896</span> │\n",
       "├──────────────────────────────────────┼─────────────────────────────┼─────────────────┤\n",
       "│ max_pooling2d (<span style=\"color: #0087ff; text-decoration-color: #0087ff\">MaxPooling2D</span>)         │ (<span style=\"color: #00d7ff; text-decoration-color: #00d7ff\">None</span>, <span style=\"color: #00af00; text-decoration-color: #00af00\">32</span>, <span style=\"color: #00af00; text-decoration-color: #00af00\">32</span>, <span style=\"color: #00af00; text-decoration-color: #00af00\">32</span>)          │               <span style=\"color: #00af00; text-decoration-color: #00af00\">0</span> │\n",
       "├──────────────────────────────────────┼─────────────────────────────┼─────────────────┤\n",
       "│ conv2d_1 (<span style=\"color: #0087ff; text-decoration-color: #0087ff\">Conv2D</span>)                    │ (<span style=\"color: #00d7ff; text-decoration-color: #00d7ff\">None</span>, <span style=\"color: #00af00; text-decoration-color: #00af00\">32</span>, <span style=\"color: #00af00; text-decoration-color: #00af00\">32</span>, <span style=\"color: #00af00; text-decoration-color: #00af00\">64</span>)          │          <span style=\"color: #00af00; text-decoration-color: #00af00\">18,496</span> │\n",
       "├──────────────────────────────────────┼─────────────────────────────┼─────────────────┤\n",
       "│ max_pooling2d_1 (<span style=\"color: #0087ff; text-decoration-color: #0087ff\">MaxPooling2D</span>)       │ (<span style=\"color: #00d7ff; text-decoration-color: #00d7ff\">None</span>, <span style=\"color: #00af00; text-decoration-color: #00af00\">16</span>, <span style=\"color: #00af00; text-decoration-color: #00af00\">16</span>, <span style=\"color: #00af00; text-decoration-color: #00af00\">64</span>)          │               <span style=\"color: #00af00; text-decoration-color: #00af00\">0</span> │\n",
       "├──────────────────────────────────────┼─────────────────────────────┼─────────────────┤\n",
       "│ flatten (<span style=\"color: #0087ff; text-decoration-color: #0087ff\">Flatten</span>)                    │ (<span style=\"color: #00d7ff; text-decoration-color: #00d7ff\">None</span>, <span style=\"color: #00af00; text-decoration-color: #00af00\">16384</span>)               │               <span style=\"color: #00af00; text-decoration-color: #00af00\">0</span> │\n",
       "├──────────────────────────────────────┼─────────────────────────────┼─────────────────┤\n",
       "│ dense (<span style=\"color: #0087ff; text-decoration-color: #0087ff\">Dense</span>)                        │ (<span style=\"color: #00d7ff; text-decoration-color: #00d7ff\">None</span>, <span style=\"color: #00af00; text-decoration-color: #00af00\">256</span>)                 │       <span style=\"color: #00af00; text-decoration-color: #00af00\">4,194,560</span> │\n",
       "├──────────────────────────────────────┼─────────────────────────────┼─────────────────┤\n",
       "│ dropout (<span style=\"color: #0087ff; text-decoration-color: #0087ff\">Dropout</span>)                    │ (<span style=\"color: #00d7ff; text-decoration-color: #00d7ff\">None</span>, <span style=\"color: #00af00; text-decoration-color: #00af00\">256</span>)                 │               <span style=\"color: #00af00; text-decoration-color: #00af00\">0</span> │\n",
       "├──────────────────────────────────────┼─────────────────────────────┼─────────────────┤\n",
       "│ dense_1 (<span style=\"color: #0087ff; text-decoration-color: #0087ff\">Dense</span>)                      │ (<span style=\"color: #00d7ff; text-decoration-color: #00d7ff\">None</span>, <span style=\"color: #00af00; text-decoration-color: #00af00\">24</span>)                  │           <span style=\"color: #00af00; text-decoration-color: #00af00\">6,168</span> │\n",
       "└──────────────────────────────────────┴─────────────────────────────┴─────────────────┘\n",
       "</pre>\n"
      ],
      "text/plain": [
       "┏━━━━━━━━━━━━━━━━━━━━━━━━━━━━━━━━━━━━━━┳━━━━━━━━━━━━━━━━━━━━━━━━━━━━━┳━━━━━━━━━━━━━━━━━┓\n",
       "┃\u001b[1m \u001b[0m\u001b[1mLayer (type)                        \u001b[0m\u001b[1m \u001b[0m┃\u001b[1m \u001b[0m\u001b[1mOutput Shape               \u001b[0m\u001b[1m \u001b[0m┃\u001b[1m \u001b[0m\u001b[1m        Param #\u001b[0m\u001b[1m \u001b[0m┃\n",
       "┡━━━━━━━━━━━━━━━━━━━━━━━━━━━━━━━━━━━━━━╇━━━━━━━━━━━━━━━━━━━━━━━━━━━━━╇━━━━━━━━━━━━━━━━━┩\n",
       "│ conv2d (\u001b[38;5;33mConv2D\u001b[0m)                      │ (\u001b[38;5;45mNone\u001b[0m, \u001b[38;5;34m64\u001b[0m, \u001b[38;5;34m64\u001b[0m, \u001b[38;5;34m32\u001b[0m)          │             \u001b[38;5;34m896\u001b[0m │\n",
       "├──────────────────────────────────────┼─────────────────────────────┼─────────────────┤\n",
       "│ max_pooling2d (\u001b[38;5;33mMaxPooling2D\u001b[0m)         │ (\u001b[38;5;45mNone\u001b[0m, \u001b[38;5;34m32\u001b[0m, \u001b[38;5;34m32\u001b[0m, \u001b[38;5;34m32\u001b[0m)          │               \u001b[38;5;34m0\u001b[0m │\n",
       "├──────────────────────────────────────┼─────────────────────────────┼─────────────────┤\n",
       "│ conv2d_1 (\u001b[38;5;33mConv2D\u001b[0m)                    │ (\u001b[38;5;45mNone\u001b[0m, \u001b[38;5;34m32\u001b[0m, \u001b[38;5;34m32\u001b[0m, \u001b[38;5;34m64\u001b[0m)          │          \u001b[38;5;34m18,496\u001b[0m │\n",
       "├──────────────────────────────────────┼─────────────────────────────┼─────────────────┤\n",
       "│ max_pooling2d_1 (\u001b[38;5;33mMaxPooling2D\u001b[0m)       │ (\u001b[38;5;45mNone\u001b[0m, \u001b[38;5;34m16\u001b[0m, \u001b[38;5;34m16\u001b[0m, \u001b[38;5;34m64\u001b[0m)          │               \u001b[38;5;34m0\u001b[0m │\n",
       "├──────────────────────────────────────┼─────────────────────────────┼─────────────────┤\n",
       "│ flatten (\u001b[38;5;33mFlatten\u001b[0m)                    │ (\u001b[38;5;45mNone\u001b[0m, \u001b[38;5;34m16384\u001b[0m)               │               \u001b[38;5;34m0\u001b[0m │\n",
       "├──────────────────────────────────────┼─────────────────────────────┼─────────────────┤\n",
       "│ dense (\u001b[38;5;33mDense\u001b[0m)                        │ (\u001b[38;5;45mNone\u001b[0m, \u001b[38;5;34m256\u001b[0m)                 │       \u001b[38;5;34m4,194,560\u001b[0m │\n",
       "├──────────────────────────────────────┼─────────────────────────────┼─────────────────┤\n",
       "│ dropout (\u001b[38;5;33mDropout\u001b[0m)                    │ (\u001b[38;5;45mNone\u001b[0m, \u001b[38;5;34m256\u001b[0m)                 │               \u001b[38;5;34m0\u001b[0m │\n",
       "├──────────────────────────────────────┼─────────────────────────────┼─────────────────┤\n",
       "│ dense_1 (\u001b[38;5;33mDense\u001b[0m)                      │ (\u001b[38;5;45mNone\u001b[0m, \u001b[38;5;34m24\u001b[0m)                  │           \u001b[38;5;34m6,168\u001b[0m │\n",
       "└──────────────────────────────────────┴─────────────────────────────┴─────────────────┘\n"
      ]
     },
     "metadata": {},
     "output_type": "display_data"
    },
    {
     "data": {
      "text/html": [
       "<pre style=\"white-space:pre;overflow-x:auto;line-height:normal;font-family:Menlo,'DejaVu Sans Mono',consolas,'Courier New',monospace\"><span style=\"font-weight: bold\"> Total params: </span><span style=\"color: #00af00; text-decoration-color: #00af00\">4,220,120</span> (16.10 MB)\n",
       "</pre>\n"
      ],
      "text/plain": [
       "\u001b[1m Total params: \u001b[0m\u001b[38;5;34m4,220,120\u001b[0m (16.10 MB)\n"
      ]
     },
     "metadata": {},
     "output_type": "display_data"
    },
    {
     "data": {
      "text/html": [
       "<pre style=\"white-space:pre;overflow-x:auto;line-height:normal;font-family:Menlo,'DejaVu Sans Mono',consolas,'Courier New',monospace\"><span style=\"font-weight: bold\"> Trainable params: </span><span style=\"color: #00af00; text-decoration-color: #00af00\">4,220,120</span> (16.10 MB)\n",
       "</pre>\n"
      ],
      "text/plain": [
       "\u001b[1m Trainable params: \u001b[0m\u001b[38;5;34m4,220,120\u001b[0m (16.10 MB)\n"
      ]
     },
     "metadata": {},
     "output_type": "display_data"
    },
    {
     "data": {
      "text/html": [
       "<pre style=\"white-space:pre;overflow-x:auto;line-height:normal;font-family:Menlo,'DejaVu Sans Mono',consolas,'Courier New',monospace\"><span style=\"font-weight: bold\"> Non-trainable params: </span><span style=\"color: #00af00; text-decoration-color: #00af00\">0</span> (0.00 B)\n",
       "</pre>\n"
      ],
      "text/plain": [
       "\u001b[1m Non-trainable params: \u001b[0m\u001b[38;5;34m0\u001b[0m (0.00 B)\n"
      ]
     },
     "metadata": {},
     "output_type": "display_data"
    }
   ],
   "source": [
    "\n",
    "#flatten\n",
    "model.add(Flatten())\n",
    "\n",
    "# fully connected layers\n",
    "model.add(Dense(256, activation='relu'))\n",
    "model.add(Dropout(0.5))\n",
    "\n",
    "#output Layer \n",
    "#softmax activation is udes because in converts the output into a probability distribution accross our classes\n",
    "model.add(layers.Dense(24, activation='softmax'))\n",
    "\n",
    "\n",
    "model.summary()"
   ]
  },
  {
   "cell_type": "markdown",
   "id": "7834ef15-e40f-4618-897a-2a4a2b3efc8d",
   "metadata": {},
   "source": [
    "Compile and train the model\n",
    "\n",
    "We will be using Adam optimimizer "
   ]
  },
  {
   "cell_type": "code",
   "execution_count": 100,
   "id": "44fef8a4-23b4-4a49-8efe-8517751f9dfe",
   "metadata": {
    "tags": []
   },
   "outputs": [],
   "source": [
    "model.compile(optimizer='adam', loss='categorical_crossentropy', metrics=['accuracy'])\n"
   ]
  },
  {
   "cell_type": "code",
   "execution_count": 101,
   "id": "88ae15ac-81f5-47f7-8a75-738de0305cb6",
   "metadata": {},
   "outputs": [
    {
     "name": "stdout",
     "output_type": "stream",
     "text": [
      "Unique values in y_train: [ 0  1  2  3  4  5  6  7  8  9 10 11 12 13 14 15 16 17 18 19 20 21 22 23]\n",
      "Unique values in y_test: [ 0  1  2  3  4  5  6  7  8  9 10 11 12 13 14 15 16 17 18 19 20 21 22 23]\n",
      "Shape of y_train: (16799,)\n",
      "Shape of y_test: (3600,)\n"
     ]
    }
   ],
   "source": [
    "print(\"Unique values in y_train:\", np.unique(y_train))\n",
    "print(\"Unique values in y_test:\", np.unique(y_test))\n",
    "print(\"Shape of y_train:\", y_train.shape)\n",
    "print(\"Shape of y_test:\", y_test.shape)"
   ]
  },
  {
   "cell_type": "code",
   "execution_count": 102,
   "id": "ff874fed-168b-4d09-913e-7fd21eb0f32f",
   "metadata": {},
   "outputs": [
    {
     "name": "stdout",
     "output_type": "stream",
     "text": [
      "Shape of y_train_encoded: (16799, 24)\n",
      "Shape of y_test_encoded: (3600, 24)\n"
     ]
    }
   ],
   "source": [
    "from tensorflow.keras.utils import to_categorical\n",
    "\n",
    "# Assuming y_train and y_test are your original integer labels\n",
    "y_train_encoded = to_categorical(y_train, num_classes=24)\n",
    "y_test_encoded = to_categorical(y_test, num_classes=24)\n",
    "\n",
    "print(\"Shape of y_train_encoded:\", y_train_encoded.shape)  # Should be (num_samples, 24)\n",
    "print(\"Shape of y_test_encoded:\", y_test_encoded.shape)    # Sh"
   ]
  },
  {
   "cell_type": "code",
   "execution_count": null,
   "id": "0664f04e-096a-44f2-a275-e38b4dd04dbd",
   "metadata": {},
   "outputs": [
    {
     "name": "stdout",
     "output_type": "stream",
     "text": [
      "Epoch 1/24\n",
      "\u001b[1m1050/1050\u001b[0m \u001b[32m━━━━━━━━━━━━━━━━━━━━\u001b[0m\u001b[37m\u001b[0m \u001b[1m61s\u001b[0m 55ms/step - accuracy: 0.3468 - loss: 2.0090 - val_accuracy: 0.7342 - val_loss: 0.6623\n",
      "Epoch 2/24\n",
      "\u001b[1m1050/1050\u001b[0m \u001b[32m━━━━━━━━━━━━━━━━━━━━\u001b[0m\u001b[37m\u001b[0m \u001b[1m66s\u001b[0m 63ms/step - accuracy: 0.6936 - loss: 0.7957 - val_accuracy: 0.7797 - val_loss: 0.5463\n",
      "Epoch 3/24\n",
      "\u001b[1m1050/1050\u001b[0m \u001b[32m━━━━━━━━━━━━━━━━━━━━\u001b[0m\u001b[37m\u001b[0m \u001b[1m59s\u001b[0m 57ms/step - accuracy: 0.7550 - loss: 0.6117 - val_accuracy: 0.7661 - val_loss: 0.5395\n",
      "Epoch 4/24\n",
      "\u001b[1m1050/1050\u001b[0m \u001b[32m━━━━━━━━━━━━━━━━━━━━\u001b[0m\u001b[37m\u001b[0m \u001b[1m61s\u001b[0m 58ms/step - accuracy: 0.7854 - loss: 0.5367 - val_accuracy: 0.8161 - val_loss: 0.4388\n",
      "Epoch 5/24\n",
      "\u001b[1m1050/1050\u001b[0m \u001b[32m━━━━━━━━━━━━━━━━━━━━\u001b[0m\u001b[37m\u001b[0m \u001b[1m61s\u001b[0m 58ms/step - accuracy: 0.8046 - loss: 0.4842 - val_accuracy: 0.8494 - val_loss: 0.3787\n",
      "Epoch 6/24\n",
      "\u001b[1m1050/1050\u001b[0m \u001b[32m━━━━━━━━━━━━━━━━━━━━\u001b[0m\u001b[37m\u001b[0m \u001b[1m60s\u001b[0m 57ms/step - accuracy: 0.8318 - loss: 0.4128 - val_accuracy: 0.8183 - val_loss: 0.4172\n",
      "Epoch 7/24\n",
      "\u001b[1m1050/1050\u001b[0m \u001b[32m━━━━━━━━━━━━━━━━━━━━\u001b[0m\u001b[37m\u001b[0m \u001b[1m58s\u001b[0m 55ms/step - accuracy: 0.8337 - loss: 0.4008 - val_accuracy: 0.8644 - val_loss: 0.3390\n",
      "Epoch 8/24\n",
      "\u001b[1m1050/1050\u001b[0m \u001b[32m━━━━━━━━━━━━━━━━━━━━\u001b[0m\u001b[37m\u001b[0m \u001b[1m66s\u001b[0m 62ms/step - accuracy: 0.8615 - loss: 0.3351 - val_accuracy: 0.8533 - val_loss: 0.3883\n",
      "Epoch 9/24\n",
      "\u001b[1m1050/1050\u001b[0m \u001b[32m━━━━━━━━━━━━━━━━━━━━\u001b[0m\u001b[37m\u001b[0m \u001b[1m66s\u001b[0m 63ms/step - accuracy: 0.8693 - loss: 0.3203 - val_accuracy: 0.8839 - val_loss: 0.3003\n",
      "Epoch 10/24\n",
      "\u001b[1m1050/1050\u001b[0m \u001b[32m━━━━━━━━━━━━━━━━━━━━\u001b[0m\u001b[37m\u001b[0m \u001b[1m57s\u001b[0m 55ms/step - accuracy: 0.8848 - loss: 0.2765 - val_accuracy: 0.8714 - val_loss: 0.3278\n",
      "Epoch 11/24\n",
      "\u001b[1m1050/1050\u001b[0m \u001b[32m━━━━━━━━━━━━━━━━━━━━\u001b[0m\u001b[37m\u001b[0m \u001b[1m58s\u001b[0m 55ms/step - accuracy: 0.8883 - loss: 0.2752 - val_accuracy: 0.8658 - val_loss: 0.3376\n",
      "Epoch 12/24\n",
      "\u001b[1m 766/1050\u001b[0m \u001b[32m━━━━━━━━━━━━━━\u001b[0m\u001b[37m━━━━━━\u001b[0m \u001b[1m16s\u001b[0m 57ms/step - accuracy: 0.8923 - loss: 0.2530"
     ]
    }
   ],
   "source": [
    "history = model.fit(X_train, y_train_encoded, epochs=24, \n",
    "                    validation_data=(X_test, y_test_encoded), \n",
    "                    batch_size=16)\n"
   ]
  },
  {
   "cell_type": "markdown",
   "id": "f2b6c219-2a69-4cd3-b346-8146b258e6b5",
   "metadata": {},
   "source": [
    "Evaluate the model"
   ]
  },
  {
   "cell_type": "code",
   "execution_count": null,
   "id": "30adfb88-4995-4d7f-94b5-822edc86193e",
   "metadata": {},
   "outputs": [],
   "source": [
    "\n",
    "\n",
    "# Extracting training and validation loss and accuracy\n",
    "train_loss = history.history['loss']\n",
    "val_loss = history.history['val_loss']\n",
    "train_accuracy = history.history['accuracy']\n",
    "val_accuracy = history.history['val_accuracy']\n",
    "\n",
    "# training and validation metrics at the end of training\n",
    "final_train_loss = train_loss[-1]\n",
    "final_val_loss = val_loss[-1]\n",
    "final_train_accuracy = train_accuracy[-1]\n",
    "final_val_accuracy = val_accuracy[-1]\n",
    "\n",
    "print(f\"Final Training Loss: {final_train_loss:.4f}\")\n",
    "print(f\"Final Training Accuracy: {final_train_accuracy:.4f}\")\n",
    "print(f\"Final Validation Loss: {final_val_loss:.4f}\")\n",
    "print(f\"Final Validation Accuracy: {final_val_accuracy:.4f}\")\n",
    "\n",
    "# Evaluate the model on the test set\n",
    "test_loss, test_accuracy = model.evaluate(X_test, y_test_encoded, verbose=2)\n",
    "\n",
    "print(f\"Test Loss: {test_loss:.4f}\")\n",
    "print(f\"Test Accuracy: {test_accuracy:.4f}\")\n"
   ]
  },
  {
   "cell_type": "code",
   "execution_count": 87,
   "id": "56475607-b2e8-4e7e-9eaf-935e39c459a4",
   "metadata": {
    "tags": []
   },
   "outputs": [
    {
     "name": "stdout",
     "output_type": "stream",
     "text": [
      "113/113 - 3s - 28ms/step - accuracy: 0.8722 - loss: 0.3461\n",
      "\n",
      "Test accuracy: 0.8722222447395325\n"
     ]
    }
   ],
   "source": []
  },
  {
   "cell_type": "code",
   "execution_count": 88,
   "id": "9a30abd1-5ff5-4e18-94fb-c9c4489bb965",
   "metadata": {},
   "outputs": [
    {
     "data": {
      "image/png": "[encoded data removed]",
      "text/plain": [
       "<Figure size 1000x600 with 1 Axes>"
      ]
     },
     "metadata": {},
     "output_type": "display_data"
    },
    {
     "name": "stdout",
     "output_type": "stream",
     "text": [
      "113/113 - 3s - 24ms/step - accuracy: 0.8722 - loss: 0.3461\n",
      "Test accuracy: 0.8722\n"
     ]
    }
   ],
   "source": [
    "y_test_encoded = to_categorical(y_test, num_classes=24)\n",
    "\n",
    "# Plotting training and validation accuracy\n",
    "plt.figure(figsize=(10, 6))  # Set figure size for better readability\n",
    "plt.plot(history.history['accuracy'], label='Training Accuracy')\n",
    "plt.plot(history.history['val_accuracy'], label='Validation Accuracy')\n",
    "plt.xlabel('Epoch')\n",
    "plt.ylabel('Accuracy')\n",
    "plt.ylim([0.5, 1])\n",
    "plt.title('Training and Validation Accuracy')\n",
    "plt.legend(loc='lower right')\n",
    "plt.grid()\n",
    "plt.show()\n",
    "\n",
    "# Evaluate the model\n",
    "test_loss, test_acc = model.evaluate(X_test, y_test_encoded, verbose=2)\n",
    "\n",
    "# Print the test accuracy\n",
    "print(f'Test accuracy: {test_acc:.4f}')"
   ]
  },
  {
   "cell_type": "code",
   "execution_count": null,
   "id": "439c65d4-eb2b-4d44-8e13-f6cd9c292260",
   "metadata": {},
   "outputs": [],
   "source": [
    "import numpy as np\n",
    "from sklearn.metrics import confusion_matrix, classification_report\n",
    "\n",
    "# Assuming your model is already trained and you have predictions\n",
    "y_pred = model.predict(X_test)\n",
    "\n",
    "# Convert predictions from one-hot encoding to class labels\n",
    "y_pred_classes = np.argmax(y_pred, axis=1)\n",
    "\n",
    "# Get true labels (assuming y_test_encoded is one-hot encoded)\n",
    "y_true_classes = np.argmax(y_test_encoded, axis=1)\n",
    "\n",
    "# Calculate confusion matrix\n",
    "confusion_mtx = confusion_matrix(y_true_classes, y_pred_classes)\n",
    "\n",
    "print(\"Confusion Matrix:\")\n",
    "print(confusion_mtx)\n",
    "\n",
    "# Generate classification report\n",
    "report = classification_report(y_true_classes, y_pred_classes)\n",
    "\n",
    "print(\"Classification Report:\")\n",
    "print(report)\n",
    "\n",
    "# Print additional metrics like accuracy, precision, recall, and F1 score\n",
    "accuracy = np.sum(y_pred_classes == y_true_classes) / len(y_true_classes)\n",
    "precision = np.sum(y_pred_classes[y_pred_classes == 1] == y_true_classes[y_pred_classes == 1]) / np.sum(y_pred_classes == 1)\n",
    "recall = np.sum(y_pred_classes[y_true_classes == 1] == y_true_classes[y_true_classes == 1]) / np.sum(y_true_classes == 1)\n",
    "f1_score = 2 * (precision * recall) / (precision + recall)\n",
    "\n",
    "print(f\"Overall Accuracy: {accuracy:.4f}\")\n",
    "print(f\"Precision: {precision:.4f}\")\n",
    "print(f\"Recall: {recall:.4f}\")\n",
    "print(f\"F1 Score: {f1_score:.4f}\")\n"
   ]
  },
  {
   "cell_type": "code",
   "execution_count": 89,
   "id": "3cbf9cff-23f8-4db0-8ee0-e464d92c8117",
   "metadata": {},
   "outputs": [],
   "source": [
    "tf.keras.backend.clear_session()\n"
   ]
  }
 ],
 "metadata": {
  "kernelspec": {
   "display_name": "Python 3 (ipykernel)",
   "language": "python",
   "name": "python3"
  },
  "language_info": {
   "codemirror_mode": {
    "name": "ipython",
    "version": 3
   },
   "file_extension": ".py",
   "mimetype": "text/x-python",
   "name": "python",
   "nbconvert_exporter": "python",
   "pygments_lexer": "ipython3",
   "version": "3.12.1"
  }
 },
 "nbformat": 4,
 "nbformat_minor": 5
}
