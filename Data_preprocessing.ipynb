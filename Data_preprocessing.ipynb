{
 "cells": [
  {
   "cell_type": "code",
   "execution_count": 6,
   "id": "93010643-c38e-4d07-a3b8-0edc83a04e10",
   "metadata": {},
   "outputs": [],
   "source": [
    "import numpy as np\n",
    "import os\n",
    "from pathlib import Path\n",
    "\n",
    "import matplotlib.pyplot as plt\n",
    "from keras.preprocessing import image"
   ]
  },
  {
   "cell_type": "code",
   "execution_count": 7,
   "id": "1f1d6891-07e6-491a-8346-70caa6a2e0b8",
   "metadata": {},
   "outputs": [],
   "source": [
    "#Path to the directory where the subdirectories (classes= biomes) are stored\n",
    "path = Path(\"C:/Users/ivali/OneDrive - Aalto University/ML_projekti_data\")\n",
    "#lists all subdirectories in directory = classes \n",
    "dirs = path.glob(\"*\") \n",
    "\n",
    "#dictionary that maps labels\n",
    "labels_dictionary = {\n",
    "    \"badlands\": 1,\n",
    "    \"bamboo_jungle\": 2,\n",
    "    \"birch_forest\": 3,\n",
    "    \"cherry_grove\": 4,\n",
    "    \"dark_forest\": 5,\n",
    "    \"desert\": 6,\n",
    "    \"flower_forest\": 7,\n",
    "    \"forest\": 8,\n",
    "    \"frozen_peaks\": 9,\n",
    "    \"grove\": 10,\n",
    "    \"ice_spikes\": 11,\n",
    "    \"jagged_peaks\": 12,\n",
    "    \"jungle\": 13,\n",
    "    \"mangrove_swamp\": 14,\n",
    "    \"meadow\": 15,\n",
    "    \"mushroom_fields\": 16,\n",
    "    \"old_growth_pine_taiga\": 17,\n",
    "    \"plains\": 18,\n",
    "    \"savannah\": 19,\n",
    "    \"snowy_plains\": 20,\n",
    "    \"snowy_slopes\": 21,\n",
    "    \"stony_peaks\": 22,\n",
    "    \"swamp\": 23,\n",
    "    \"taiga\": 24\n",
    "}\n",
    "\n",
    "image_data = []\n",
    "labels = []"
   ]
  },
  {
   "cell_type": "code",
   "execution_count": 9,
   "id": "bd567f7f-d443-4d06-96a9-38ef6c981790",
   "metadata": {},
   "outputs": [
    {
     "name": "stdout",
     "output_type": "stream",
     "text": [
      "Data loading complete.\n"
     ]
    }
   ],
   "source": [
    "# iterate trough all folders so all classes\n",
    "for folder_dir in dirs:\n",
    "    label = str(folder_dir).split(\"\\\\\")[-1][len(\"biome_\"):]\n",
    "    image_count = 0\n",
    "    \n",
    "    # iterate through all datapoints (all images)\n",
    "    for img_path in folder_dir.glob(\"*.jpg\"):\n",
    "        if image_count >= 1000:  # break at 1000 images\n",
    "            break\n",
    "            \n",
    "        img = image.load_img(img_path) # load\n",
    "        img_cropped = image.smart_resize(img, (64,64)) # crop to 64x64 \n",
    "        img_array = image.img_to_array(img_cropped) # convert to numPy array\n",
    "        \n",
    "        image_data.append(img_array) # arrays are all gathered to one list\n",
    "        labels.append(labels_dictionary[label]) # label appended to corresponding place in list of labels\n",
    "        image_count += 1\n",
    "        \n",
    "    print(f\"Loaded {image_count} images for class: {label}\") # should return 1000 images for each label\n",
    "\n",
    "print(\"Data loading complete.\") # indicate that loading is complete "
   ]
  },
  {
   "cell_type": "code",
   "execution_count": 10,
   "id": "9e2a86ea-49fc-4af3-aa7a-1eab107860ba",
   "metadata": {
    "scrolled": true
   },
   "outputs": [
    {
     "name": "stdout",
     "output_type": "stream",
     "text": [
      "Number of images: 24000\n",
      "Number of labels: 24000\n",
      "Shape of first image: (64, 64, 3)\n"
     ]
    },
    {
     "data": {
      "image/png": "[encoded data removed]",
      "text/plain": [
       "<Figure size 640x480 with 1 Axes>"
      ]
     },
     "metadata": {},
     "output_type": "display_data"
    }
   ],
   "source": [
    "# summary of data\n",
    "print(f\"Number of images: {len(image_data)}\") # both images and labels should return 24,000 because we have 24,000 images and each of them is labeled\n",
    "print(f\"Number of labels: {len(labels)}\")\n",
    "print(f\"Shape of first image: {image_data[0].shape}\") # shape of image, 64x64x3 because of pixel dimensions and RGB values\n",
    "\n",
    "# Display first image for funsies\n",
    "plt.imshow(np.uint8(image_data[0]))\n",
    "plt.title(f\"Label: {labels[0]}\")\n",
    "plt.show()"
   ]
  },
  {
   "cell_type": "code",
   "execution_count": 11,
   "id": "00277b51-294d-4fe4-a286-e123fff5cd02",
   "metadata": {},
   "outputs": [],
   "source": [
    "np.save(\"image_data64.npy\", image_data)\n",
    "np.save(\"labels64.npy\", labels)"
   ]
  },
  {
   "cell_type": "code",
   "execution_count": null,
   "id": "17e45930-262b-4b84-a4de-13ec64719eaa",
   "metadata": {},
   "outputs": [],
   "source": []
  },
  {
   "cell_type": "code",
   "execution_count": null,
   "id": "9928ebec-0be7-490b-a818-165698f93966",
   "metadata": {},
   "outputs": [],
   "source": []
  }
 ],
 "metadata": {
  "kernelspec": {
   "display_name": "Python 3 (ipykernel)",
   "language": "python",
   "name": "python3"
  },
  "language_info": {
   "codemirror_mode": {
    "name": "ipython",
    "version": 3
   },
   "file_extension": ".py",
   "mimetype": "text/x-python",
   "name": "python",
   "nbconvert_exporter": "python",
   "pygments_lexer": "ipython3",
   "version": "3.12.1"
  }
 },
 "nbformat": 4,
 "nbformat_minor": 5
}
